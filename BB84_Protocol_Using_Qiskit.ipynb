{
  "nbformat": 4,
  "nbformat_minor": 0,
  "metadata": {
    "colab": {
      "provenance": []
    },
    "kernelspec": {
      "name": "python3",
      "display_name": "Python 3"
    },
    "language_info": {
      "name": "python"
    }
  },
  "cells": [
    {
      "cell_type": "code",
      "source": [
        "!pip install qiskit qiskit_aer --quiet"
      ],
      "metadata": {
        "colab": {
          "base_uri": "https://localhost:8080/"
        },
        "id": "s1iivj5uXTRC",
        "outputId": "adc7c291-9ccc-4392-df84-b77872eda0ed"
      },
      "execution_count": 10,
      "outputs": [
        {
          "output_type": "stream",
          "name": "stdout",
          "text": [
            "\u001b[2K   \u001b[90m━━━━━━━━━━━━━━━━━━━━━━━━━━━━━━━━━━━━━━━━\u001b[0m \u001b[32m12.4/12.4 MB\u001b[0m \u001b[31m95.0 MB/s\u001b[0m eta \u001b[36m0:00:00\u001b[0m\n",
            "\u001b[?25h"
          ]
        }
      ]
    },
    {
      "cell_type": "code",
      "execution_count": 30,
      "metadata": {
        "colab": {
          "base_uri": "https://localhost:8080/"
        },
        "id": "34K1PyRFW5Yn",
        "outputId": "cc678b34-5c4e-41d8-e36e-58429c4dae55"
      },
      "outputs": [
        {
          "output_type": "stream",
          "name": "stdout",
          "text": [
            "Alice's Bits:   [1 1 1 0 1 0 1 0 1 1 1 0 1 1 0]\n",
            "Alice's Bases:  [0 0 0 1 0 0 0 1 1 1 1 0 0 1 1]\n",
            "Bob's Bases:   [1 1 0 0 0 1 1 1 1 0 1 0 1 0 0]\n",
            "Bob's Bits:    [1 0 1 1 1 0 1 0 1 1 1 0 1 0 0]\n",
            "\n",
            "🔹 Matching Indices:  [ 2  4  7  8 10 11]\n",
            "🔑 Alice's Key:  [1 1 0 1 1 0]\n",
            "🔑 Bob's Key:    [1 1 0 1 1 0]\n",
            "\n",
            "🔍 Sample Check (Publicly Compared Bits):\n",
            "Alice's Sample: [1]\n",
            "Bob's Sample:   [1]\n",
            "\n",
            "✅ Final Shared Secret Key:  [1 1 0 1 0]\n"
          ]
        }
      ],
      "source": [
        "from qiskit import QuantumCircuit, transpile\n",
        "from qiskit_aer import AerSimulator\n",
        "import numpy as np\n",
        "\n",
        "num_bits = 15\n",
        "\n",
        "alice_bits = np.random.randint(2, size=num_bits)\n",
        "\n",
        "alice_bases = np.random.randint(2, size=num_bits)\n",
        "\n",
        "print(\"Alice's Bits:  \", alice_bits)\n",
        "print(\"Alice's Bases: \", alice_bases)\n",
        "\n",
        "def encode_qubits(bits, bases):\n",
        "    qubits = []\n",
        "    for bit, basis in zip(bits, bases):\n",
        "        qc = QuantumCircuit(1, 1)\n",
        "        if bit == 1:\n",
        "            qc.x(0)  # Apply X gate if bit is 1\n",
        "        if basis == 1:\n",
        "            qc.h(0)  # Apply Hadamard if basis is 1 (X-basis)\n",
        "        qubits.append(qc)\n",
        "    return qubits\n",
        "\n",
        "# Alice prepares the qubits\n",
        "alice_qubits = encode_qubits(alice_bits, alice_bases)\n",
        "\n",
        "# Bob chooses random bases\n",
        "bob_bases = np.random.randint(2, size=num_bits)\n",
        "\n",
        "def measure_qubits(qubits, bases):\n",
        "    measured_bits = []\n",
        "    sim = AerSimulator()  # Quantum simulator\n",
        "\n",
        "    for qc, basis in zip(qubits, bases):\n",
        "        qc_copy = qc.copy()  # Copy circuit to avoid modifying original\n",
        "\n",
        "        if basis == 1:\n",
        "            qc_copy.h(0)  # Apply Hadamard if measuring in X basis\n",
        "\n",
        "        qc_copy.measure(0, 0)  # Measure qubit\n",
        "\n",
        "        # Transpile and run on simulator\n",
        "        transpiled_qc = transpile(qc_copy, sim)\n",
        "        job = sim.run(transpiled_qc, shots=1)\n",
        "        result = job.result()\n",
        "\n",
        "        measured_bit = int(list(result.get_counts().keys())[0])  # Extract measurement result\n",
        "        measured_bits.append(measured_bit)\n",
        "\n",
        "    return np.array(measured_bits)\n",
        "\n",
        "bob_bits = measure_qubits(alice_qubits, bob_bases)\n",
        "\n",
        "print(\"Bob's Bases:  \", bob_bases)\n",
        "print(\"Bob's Bits:   \", bob_bits)\n",
        "matching_indices = np.where(alice_bases == bob_bases)[0]\n",
        "\n",
        "alice_key = alice_bits[matching_indices]\n",
        "bob_key = bob_bits[matching_indices]\n",
        "\n",
        "print(\"\\n🔹 Matching Indices: \", matching_indices)\n",
        "print(\"🔑 Alice's Key: \", alice_key)\n",
        "print(\"🔑 Bob's Key:   \", bob_key)\n",
        "\n",
        "sample_size = max(1, len(alice_key) // 4)  # Check 25% of the key\n",
        "sample_indices = np.random.choice(len(alice_key), sample_size, replace=False)\n",
        "\n",
        "alice_sample = alice_key[sample_indices]\n",
        "bob_sample = bob_key[sample_indices]\n",
        "\n",
        "print(\"\\n🔍 Sample Check (Publicly Compared Bits):\")\n",
        "print(\"Alice's Sample:\", alice_sample)\n",
        "print(\"Bob's Sample:  \", bob_sample)\n",
        "\n",
        "if not np.array_equal(alice_sample, bob_sample):\n",
        "    print(\"\\n⚠️ Possible Eavesdropping Detected! Discard Key.\")\n",
        "else:\n",
        "    final_key = np.delete(alice_key, sample_indices)\n",
        "    print(\"\\n✅ Final Shared Secret Key: \", final_key)\n"
      ]
    },
    {
      "cell_type": "code",
      "source": [],
      "metadata": {
        "colab": {
          "base_uri": "https://localhost:8080/"
        },
        "id": "s-tVN-TKbzMy",
        "outputId": "001af91c-8422-48ce-cafc-d77b7f7e8a97"
      },
      "execution_count": 29,
      "outputs": [
        {
          "output_type": "stream",
          "name": "stdout",
          "text": [
            "\n",
            "🔹 Matching Indices:  [ 1  3  9 11 12 14]\n",
            "🔑 Alice's Key:  [1 1 0 1 0 0]\n",
            "🔑 Bob's Key:    [1 1 0 1 0 0]\n",
            "\n",
            "🔍 Sample Check (Publicly Compared Bits):\n",
            "Alice's Sample: [0]\n",
            "Bob's Sample:   [0]\n",
            "\n",
            "✅ Final Shared Secret Key:  [1 1 0 1 0]\n"
          ]
        }
      ]
    }
  ]
}